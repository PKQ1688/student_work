{
 "cells": [
  {
   "cell_type": "code",
   "execution_count": 22,
   "metadata": {},
   "outputs": [],
   "source": [
    "import pandas as pd\n",
    "import numpy as np\n",
    "import os"
   ]
  },
  {
   "cell_type": "code",
   "execution_count": 23,
   "metadata": {},
   "outputs": [],
   "source": [
    "data_path  = \"torch_lt/data/\""
   ]
  },
  {
   "cell_type": "code",
   "execution_count": 27,
   "metadata": {},
   "outputs": [],
   "source": [
    "# 初始化一个空列表来存储所有CSV文件中'simples'列的数据\n",
    "simples_list = []\n",
    "\n",
    "# 遍历文件夹中的所有CSV文件\n",
    "for filename in os.listdir(data_path):\n",
    "    if filename.endswith('.csv'):\n",
    "        file_path = os.path.join(data_path, filename)\n",
    "\n",
    "        # 读取CSV文件并提取'simples'列\n",
    "        df = pd.read_csv(file_path)\n",
    "        simples_data = df['smiles']\n",
    "\n",
    "        # 将提取的'simples'列数据添加到列表中\n",
    "        simples_list.append(simples_data)\n",
    "\n",
    "# 合并所有'simples'列数据到一个新表（DataFrame）\n",
    "result_df = pd.concat(simples_list, ignore_index=True)\n",
    "# 保存合并后的结果到新的CSV文件\n",
    "result_df.to_csv('torch_lt/merged_simples.csv', index=False)"
   ]
  },
  {
   "cell_type": "code",
   "execution_count": 6,
   "metadata": {},
   "outputs": [],
   "source": [
    "from rdkit import Chem\n",
    "from rdkit.Chem import AllChem\n",
    "\n",
    "def preprocess_smiles(smiles):\n",
    "    mol = Chem.MolFromSmiles(smiles)\n",
    "    if mol is None:\n",
    "        return None\n",
    "    return AllChem.GetMorganFingerprintAsBitVect(mol, 2, nBits=1024)"
   ]
  },
  {
   "cell_type": "code",
   "execution_count": 34,
   "metadata": {},
   "outputs": [],
   "source": [
    "result_df = pd.read_csv('torch_lt/merged_simples.csv')\n",
    "\n",
    "filte_list = [\"FAIL\",\n",
    "            \"[NH4+].[NH4+].[Cl-][Pt++]([Cl-])([Cl-])[Cl-]\",\n",
    "            \"[F-][B+3]([F-])([F-])[F-].CC[N+]1(C)CCCC1\",\n",
    "            \"[Cl-][Pt]1([Cl-])[NH2+]CC[NH2+]\",\n",
    "            \"[Na+].[Na+].F[Si--](F)(F)(F)(F)F\",\n",
    "            \"[NH4+].[NH4+].F[Si--](F)(F)(F)(F)F\",\n",
    "            \"[Cl-][Pt]1([Cl-])[NH2+]CC[NH2+]1\"]\n",
    "\n",
    "for filte_item in filte_list:\n",
    "    result_df = result_df.loc[result_df['smiles'] != filte_item]\n",
    "\n",
    "result_df.head()\n",
    "result_df.to_csv('torch_lt/merged_simples.csv', index=False)"
   ]
  },
  {
   "cell_type": "code",
   "execution_count": 35,
   "metadata": {},
   "outputs": [
    {
     "name": "stderr",
     "output_type": "stream",
     "text": [
      "[14:52:04] WARNING: not removing hydrogen atom without neighbors\n",
      "[14:52:04] WARNING: not removing hydrogen atom without neighbors\n",
      "[14:52:05] WARNING: not removing hydrogen atom without neighbors\n",
      "[14:52:05] WARNING: not removing hydrogen atom without neighbors\n",
      "[14:52:05] WARNING: not removing hydrogen atom without neighbors\n",
      "[14:52:05] WARNING: not removing hydrogen atom without neighbors\n",
      "[14:52:05] WARNING: not removing hydrogen atom without neighbors\n",
      "[14:52:05] WARNING: not removing hydrogen atom without neighbors\n",
      "[14:52:05] WARNING: not removing hydrogen atom without neighbors\n",
      "[14:52:05] WARNING: not removing hydrogen atom without neighbors\n",
      "[14:52:05] WARNING: not removing hydrogen atom without neighbors\n",
      "[14:52:05] WARNING: not removing hydrogen atom without neighbors\n",
      "[14:52:05] WARNING: not removing hydrogen atom without neighbors\n",
      "[14:52:05] WARNING: not removing hydrogen atom without neighbors\n",
      "[14:52:05] WARNING: not removing hydrogen atom without neighbors\n",
      "[14:52:05] WARNING: not removing hydrogen atom without neighbors\n",
      "[14:52:05] WARNING: not removing hydrogen atom without neighbors\n",
      "[14:52:05] WARNING: not removing hydrogen atom without neighbors\n",
      "[14:52:05] WARNING: not removing hydrogen atom without neighbors\n",
      "[14:52:06] WARNING: not removing hydrogen atom without neighbors\n",
      "[14:52:06] WARNING: not removing hydrogen atom without neighbors\n",
      "[14:52:06] WARNING: not removing hydrogen atom without neighbors\n",
      "[14:52:06] WARNING: not removing hydrogen atom without neighbors\n",
      "[14:52:06] WARNING: not removing hydrogen atom without neighbors\n",
      "[14:52:06] WARNING: not removing hydrogen atom without neighbors\n",
      "[14:52:06] WARNING: not removing hydrogen atom without neighbors\n",
      "[14:52:06] WARNING: not removing hydrogen atom without neighbors\n",
      "[14:52:06] WARNING: not removing hydrogen atom without neighbors\n",
      "[14:52:06] WARNING: not removing hydrogen atom without neighbors\n",
      "[14:52:06] WARNING: not removing hydrogen atom without neighbors\n",
      "[14:52:06] WARNING: not removing hydrogen atom without neighbors\n",
      "[14:52:06] WARNING: not removing hydrogen atom without neighbors\n",
      "[14:52:06] WARNING: not removing hydrogen atom without neighbors\n",
      "[14:52:06] WARNING: not removing hydrogen atom without neighbors\n",
      "[14:52:06] WARNING: not removing hydrogen atom without neighbors\n",
      "[14:52:06] WARNING: not removing hydrogen atom without neighbors\n",
      "[14:52:06] WARNING: not removing hydrogen atom without neighbors\n",
      "[14:52:06] WARNING: not removing hydrogen atom without neighbors\n",
      "[14:52:06] WARNING: not removing hydrogen atom without neighbors\n",
      "[14:52:06] WARNING: not removing hydrogen atom without neighbors\n",
      "[14:52:08] WARNING: not removing hydrogen atom without neighbors\n",
      "[14:52:08] WARNING: not removing hydrogen atom without neighbors\n",
      "[14:52:08] WARNING: not removing hydrogen atom without neighbors\n",
      "[14:52:08] WARNING: not removing hydrogen atom without neighbors\n",
      "[14:52:08] WARNING: not removing hydrogen atom without neighbors\n",
      "[14:52:08] WARNING: not removing hydrogen atom without neighbors\n",
      "[14:52:08] WARNING: not removing hydrogen atom without neighbors\n",
      "[14:52:08] WARNING: not removing hydrogen atom without neighbors\n",
      "[14:52:09] WARNING: not removing hydrogen atom without neighbors\n",
      "[14:52:09] WARNING: not removing hydrogen atom without neighbors\n",
      "[14:52:09] WARNING: not removing hydrogen atom without neighbors\n",
      "[14:52:10] WARNING: not removing hydrogen atom without neighbors\n",
      "[14:52:10] WARNING: not removing hydrogen atom without neighbors\n",
      "[14:52:10] WARNING: not removing hydrogen atom without neighbors\n",
      "[14:52:20] WARNING: not removing hydrogen atom without neighbors\n"
     ]
    }
   ],
   "source": [
    "for index,row in result_df.iterrows():\n",
    "    res = preprocess_smiles(row[\"smiles\"])\n",
    "    res = np.array(res)\n",
    "    # print(res.shape)\n",
    "    if res.shape != (1024,):\n",
    "        print(row[\"smiles\"])\n",
    "    "
   ]
  },
  {
   "cell_type": "code",
   "execution_count": null,
   "metadata": {},
   "outputs": [],
   "source": []
  }
 ],
 "metadata": {
  "kernelspec": {
   "display_name": "pl",
   "language": "python",
   "name": "python3"
  },
  "language_info": {
   "codemirror_mode": {
    "name": "ipython",
    "version": 3
   },
   "file_extension": ".py",
   "mimetype": "text/x-python",
   "name": "python",
   "nbconvert_exporter": "python",
   "pygments_lexer": "ipython3",
   "version": "3.11.8"
  }
 },
 "nbformat": 4,
 "nbformat_minor": 2
}
